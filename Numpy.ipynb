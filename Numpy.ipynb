{
 "cells": [
  {
   "cell_type": "code",
   "execution_count": 10,
   "id": "a00540fc-fa03-4b18-8ccb-698f5ce66beb",
   "metadata": {},
   "outputs": [],
   "source": [
    "import numpy as np"
   ]
  },
  {
   "cell_type": "code",
   "execution_count": 3,
   "id": "ea40afb8-b1ce-40c1-9214-4b83a6be0fea",
   "metadata": {},
   "outputs": [],
   "source": [
    "arr = np.array([1,2,3,4,])"
   ]
  },
  {
   "cell_type": "code",
   "execution_count": 13,
   "id": "a9fccf6f-b3ff-4c89-a35f-cca6e2368380",
   "metadata": {},
   "outputs": [
    {
     "data": {
      "text/plain": [
       "array([1, 2, 3, 4])"
      ]
     },
     "execution_count": 13,
     "metadata": {},
     "output_type": "execute_result"
    }
   ],
   "source": [
    "arr"
   ]
  },
  {
   "cell_type": "code",
   "execution_count": 17,
   "id": "38a6bde3-11e3-4260-b03d-6eb01ade45e3",
   "metadata": {},
   "outputs": [
    {
     "data": {
      "text/plain": [
       "array([[0., 0., 0., 0.],\n",
       "       [0., 0., 0., 0.],\n",
       "       [0., 0., 0., 0.]])"
      ]
     },
     "execution_count": 17,
     "metadata": {},
     "output_type": "execute_result"
    }
   ],
   "source": [
    "np.zeros((3,4))"
   ]
  },
  {
   "cell_type": "code",
   "execution_count": 19,
   "id": "72eb6809-9b2d-4ce3-8a41-24982f6fef85",
   "metadata": {},
   "outputs": [
    {
     "data": {
      "text/plain": [
       "array([[1., 1., 1., 1.],\n",
       "       [1., 1., 1., 1.],\n",
       "       [1., 1., 1., 1.]])"
      ]
     },
     "execution_count": 19,
     "metadata": {},
     "output_type": "execute_result"
    }
   ],
   "source": [
    "np.ones((3,4))"
   ]
  },
  {
   "cell_type": "code",
   "execution_count": 21,
   "id": "26a09f58-f980-4448-b286-670b020f4ec2",
   "metadata": {},
   "outputs": [
    {
     "data": {
      "text/plain": [
       "array([[8, 8],\n",
       "       [8, 8],\n",
       "       [8, 8],\n",
       "       [8, 8]])"
      ]
     },
     "execution_count": 21,
     "metadata": {},
     "output_type": "execute_result"
    }
   ],
   "source": [
    "np.full((4,2), 8)"
   ]
  },
  {
   "cell_type": "code",
   "execution_count": 23,
   "id": "cf652a2c-77f8-4dca-84b1-d96064017220",
   "metadata": {},
   "outputs": [
    {
     "data": {
      "text/plain": [
       "array([[1., 0., 0., 0.],\n",
       "       [0., 1., 0., 0.],\n",
       "       [0., 0., 1., 0.],\n",
       "       [0., 0., 0., 1.]])"
      ]
     },
     "execution_count": 23,
     "metadata": {},
     "output_type": "execute_result"
    }
   ],
   "source": [
    "np.eye(4)"
   ]
  },
  {
   "cell_type": "code",
   "execution_count": 39,
   "id": "bbca8390-cbbe-43e8-8a06-3ce0fe5fd9a8",
   "metadata": {},
   "outputs": [
    {
     "data": {
      "text/plain": [
       "array([ 1, 10, 19, 28, 37, 46, 55, 64, 73, 82, 91])"
      ]
     },
     "execution_count": 39,
     "metadata": {},
     "output_type": "execute_result"
    }
   ],
   "source": [
    "np.arange(1,100, 9)"
   ]
  },
  {
   "cell_type": "code",
   "execution_count": 48,
   "id": "f28e86d7-fa0f-4ed6-b32a-f5cecc0f3281",
   "metadata": {},
   "outputs": [
    {
     "data": {
      "text/plain": [
       "array([ 1. ,  2.5,  4. ,  5.5,  7. ,  8.5, 10. ])"
      ]
     },
     "execution_count": 48,
     "metadata": {},
     "output_type": "execute_result"
    }
   ],
   "source": [
    "np.linspace(1, 10 , 7)"
   ]
  },
  {
   "cell_type": "code",
   "execution_count": 50,
   "id": "e958d8de-d596-46bc-b6a1-537a6411e14f",
   "metadata": {},
   "outputs": [],
   "source": [
    "myarr = np.array([[1,2,3], [4,5,6], [7,8,9],[11,12,13]])"
   ]
  },
  {
   "cell_type": "code",
   "execution_count": 52,
   "id": "0ec022b1-7ee2-4f48-abb6-ebd59b27976a",
   "metadata": {},
   "outputs": [
    {
     "data": {
      "text/plain": [
       "array([[ 1,  2,  3],\n",
       "       [ 4,  5,  6],\n",
       "       [ 7,  8,  9],\n",
       "       [11, 12, 13]])"
      ]
     },
     "execution_count": 52,
     "metadata": {},
     "output_type": "execute_result"
    }
   ],
   "source": [
    "myarr"
   ]
  },
  {
   "cell_type": "code",
   "execution_count": 54,
   "id": "52d716df-bb68-4f5c-8121-16f81660fe2d",
   "metadata": {},
   "outputs": [
    {
     "data": {
      "text/plain": [
       "(4, 3)"
      ]
     },
     "execution_count": 54,
     "metadata": {},
     "output_type": "execute_result"
    }
   ],
   "source": [
    "myarr.shape"
   ]
  },
  {
   "cell_type": "code",
   "execution_count": 56,
   "id": "e3772064-1b29-4438-aac2-437c92e1705b",
   "metadata": {},
   "outputs": [
    {
     "data": {
      "text/plain": [
       "2"
      ]
     },
     "execution_count": 56,
     "metadata": {},
     "output_type": "execute_result"
    }
   ],
   "source": [
    "myarr.ndim"
   ]
  },
  {
   "cell_type": "code",
   "execution_count": 58,
   "id": "c345ea05-2951-4b48-ab7c-749b3dad5fc0",
   "metadata": {},
   "outputs": [
    {
     "data": {
      "text/plain": [
       "12"
      ]
     },
     "execution_count": 58,
     "metadata": {},
     "output_type": "execute_result"
    }
   ],
   "source": [
    "myarr.size"
   ]
  },
  {
   "cell_type": "code",
   "execution_count": 60,
   "id": "c7b3f0b8-3136-4bfa-a70c-2aaef040d0e3",
   "metadata": {},
   "outputs": [
    {
     "data": {
      "text/plain": [
       "dtype('int32')"
      ]
     },
     "execution_count": 60,
     "metadata": {},
     "output_type": "execute_result"
    }
   ],
   "source": [
    "myarr.dtype"
   ]
  },
  {
   "cell_type": "code",
   "execution_count": 64,
   "id": "4f48445f-766b-432a-ac51-e7466575ae6b",
   "metadata": {},
   "outputs": [],
   "source": [
    "myarr = np.array([[1,2,3], [4,5,6], [7,8,9],[11,12,13]], dtype='float32')"
   ]
  },
  {
   "cell_type": "code",
   "execution_count": 66,
   "id": "6a8c1fb5-7d2c-4266-9374-d905b6521892",
   "metadata": {},
   "outputs": [
    {
     "data": {
      "text/plain": [
       "dtype('float32')"
      ]
     },
     "execution_count": 66,
     "metadata": {},
     "output_type": "execute_result"
    }
   ],
   "source": [
    "myarr.dtype"
   ]
  },
  {
   "cell_type": "code",
   "execution_count": 74,
   "id": "cff88ffa-6a9d-4986-b1ac-229b38effa8d",
   "metadata": {},
   "outputs": [],
   "source": [
    "n = myarr.astype('float64')"
   ]
  },
  {
   "cell_type": "code",
   "execution_count": 76,
   "id": "7f2c05aa-44e5-42c9-8aee-9d62d9701552",
   "metadata": {},
   "outputs": [
    {
     "data": {
      "text/plain": [
       "dtype('float64')"
      ]
     },
     "execution_count": 76,
     "metadata": {},
     "output_type": "execute_result"
    }
   ],
   "source": [
    "n.dtype"
   ]
  },
  {
   "cell_type": "code",
   "execution_count": 96,
   "id": "6bb814f6-36de-4d70-a836-1f80f5a58a85",
   "metadata": {},
   "outputs": [],
   "source": [
    "myarr = np.array([[1,2,3], [4,5,6], [7,8,9],[11,12,13]])"
   ]
  },
  {
   "cell_type": "code",
   "execution_count": 98,
   "id": "b7ba91a4-cca3-43be-a334-9728240a9184",
   "metadata": {},
   "outputs": [
    {
     "data": {
      "text/plain": [
       "(4, 3)"
      ]
     },
     "execution_count": 98,
     "metadata": {},
     "output_type": "execute_result"
    }
   ],
   "source": [
    "myarr.shape"
   ]
  },
  {
   "cell_type": "code",
   "execution_count": 110,
   "id": "f6ee8244-4965-4d29-82cf-867da5a74dc5",
   "metadata": {},
   "outputs": [],
   "source": [
    "reshaped = myarr.reshape((2,6))"
   ]
  },
  {
   "cell_type": "code",
   "execution_count": 112,
   "id": "4a695a92-bdd4-409c-bf24-b55e1a1ffe88",
   "metadata": {},
   "outputs": [
    {
     "data": {
      "text/plain": [
       "array([[ 1,  2,  3,  4,  5,  6],\n",
       "       [ 7,  8,  9, 11, 12, 13]])"
      ]
     },
     "execution_count": 112,
     "metadata": {},
     "output_type": "execute_result"
    }
   ],
   "source": [
    "reshaped"
   ]
  },
  {
   "cell_type": "code",
   "execution_count": 117,
   "id": "ee8c826b-2104-4f44-b4d9-2dea4fb3d2cc",
   "metadata": {},
   "outputs": [],
   "source": [
    "flat = reshaped.flatten()"
   ]
  },
  {
   "cell_type": "code",
   "execution_count": 119,
   "id": "f3df3e4e-0a4b-4699-9579-b4616047edc2",
   "metadata": {},
   "outputs": [
    {
     "data": {
      "text/plain": [
       "array([ 1,  2,  3,  4,  5,  6,  7,  8,  9, 11, 12, 13])"
      ]
     },
     "execution_count": 119,
     "metadata": {},
     "output_type": "execute_result"
    }
   ],
   "source": [
    "flat"
   ]
  },
  {
   "cell_type": "markdown",
   "id": "c9bd540e-43cc-483a-bcab-df469710ca47",
   "metadata": {},
   "source": [
    "# Indexing And Slicing"
   ]
  },
  {
   "cell_type": "code",
   "execution_count": 121,
   "id": "2305a072-83da-4788-9740-929d839717b0",
   "metadata": {},
   "outputs": [],
   "source": [
    "arr = np.array([[1,2,3], [4,5,6], [7,8,9],[11,12,13]])"
   ]
  },
  {
   "cell_type": "code",
   "execution_count": 123,
   "id": "ee964d8c-a39c-42f2-885c-7c667f4e777c",
   "metadata": {},
   "outputs": [
    {
     "data": {
      "text/plain": [
       "array([[ 1,  2,  3],\n",
       "       [ 4,  5,  6],\n",
       "       [ 7,  8,  9],\n",
       "       [11, 12, 13]])"
      ]
     },
     "execution_count": 123,
     "metadata": {},
     "output_type": "execute_result"
    }
   ],
   "source": [
    "arr"
   ]
  },
  {
   "cell_type": "code",
   "execution_count": 125,
   "id": "839d0941-01e2-4a6c-ba4d-1d00d4dece62",
   "metadata": {},
   "outputs": [
    {
     "data": {
      "text/plain": [
       "1"
      ]
     },
     "execution_count": 125,
     "metadata": {},
     "output_type": "execute_result"
    }
   ],
   "source": [
    "flat[0]"
   ]
  },
  {
   "cell_type": "code",
   "execution_count": 127,
   "id": "5b838a3f-dd7d-433e-bf54-bc2915c2f62d",
   "metadata": {},
   "outputs": [
    {
     "data": {
      "text/plain": [
       "array([4, 5, 6])"
      ]
     },
     "execution_count": 127,
     "metadata": {},
     "output_type": "execute_result"
    }
   ],
   "source": [
    "flat[3:6]"
   ]
  },
  {
   "cell_type": "code",
   "execution_count": 129,
   "id": "626b21e0-8ccc-488c-b304-5de9fc054c77",
   "metadata": {},
   "outputs": [
    {
     "data": {
      "text/plain": [
       "array([ 4,  5,  6,  7,  8,  9, 11, 12, 13])"
      ]
     },
     "execution_count": 129,
     "metadata": {},
     "output_type": "execute_result"
    }
   ],
   "source": [
    "flat[3:]"
   ]
  },
  {
   "cell_type": "code",
   "execution_count": 131,
   "id": "fe6860c7-76cf-44fc-b212-b5f44bcd2184",
   "metadata": {},
   "outputs": [
    {
     "data": {
      "text/plain": [
       "array([ 1,  2,  3,  4,  5,  6,  7,  8,  9, 11, 12, 13])"
      ]
     },
     "execution_count": 131,
     "metadata": {},
     "output_type": "execute_result"
    }
   ],
   "source": [
    "flat"
   ]
  },
  {
   "cell_type": "code",
   "execution_count": 133,
   "id": "70286d0d-0850-4740-a71f-ca7c4da95e53",
   "metadata": {},
   "outputs": [],
   "source": [
    "b = flat[3:7]"
   ]
  },
  {
   "cell_type": "code",
   "execution_count": 135,
   "id": "e223d6a3-f0c3-46bd-9990-900c4c1a5079",
   "metadata": {},
   "outputs": [
    {
     "data": {
      "text/plain": [
       "array([4, 5, 6, 7])"
      ]
     },
     "execution_count": 135,
     "metadata": {},
     "output_type": "execute_result"
    }
   ],
   "source": [
    "b"
   ]
  },
  {
   "cell_type": "code",
   "execution_count": 137,
   "id": "bc591611-ee4f-4e71-9729-6979a5a76122",
   "metadata": {},
   "outputs": [],
   "source": [
    "b[0] = 44444"
   ]
  },
  {
   "cell_type": "code",
   "execution_count": 139,
   "id": "51246ee3-79da-40a3-971a-74a7746405bd",
   "metadata": {},
   "outputs": [
    {
     "data": {
      "text/plain": [
       "array([44444,     5,     6,     7])"
      ]
     },
     "execution_count": 139,
     "metadata": {},
     "output_type": "execute_result"
    }
   ],
   "source": [
    "b"
   ]
  },
  {
   "cell_type": "code",
   "execution_count": 141,
   "id": "c15bb005-9de7-48f3-af4c-24c515c62a8d",
   "metadata": {},
   "outputs": [
    {
     "data": {
      "text/plain": [
       "array([    1,     2,     3, 44444,     5,     6,     7,     8,     9,\n",
       "          11,    12,    13])"
      ]
     },
     "execution_count": 141,
     "metadata": {},
     "output_type": "execute_result"
    }
   ],
   "source": [
    "flat"
   ]
  },
  {
   "cell_type": "markdown",
   "id": "e577a9a8-291d-4952-aece-8419d46cf9a3",
   "metadata": {},
   "source": [
    "Here B is not a copy, It is a view hence the value in Flat array also changed.<br>\n",
    "Numpy doesn't make a copy, it refers the same memory location."
   ]
  },
  {
   "cell_type": "markdown",
   "id": "6b786e71-5eab-477c-8806-a2f3ae21f351",
   "metadata": {},
   "source": [
    "How to make copy?\n"
   ]
  },
  {
   "cell_type": "code",
   "execution_count": 147,
   "id": "83bf8bd5-e306-46c1-8f90-0d0ee5410f06",
   "metadata": {},
   "outputs": [],
   "source": [
    "b = flat[3:7].copy()"
   ]
  },
  {
   "cell_type": "code",
   "execution_count": 149,
   "id": "38ba89df-da5d-4c42-8fc6-23efe45ab728",
   "metadata": {},
   "outputs": [
    {
     "data": {
      "text/plain": [
       "array([44444,     5,     6,     7])"
      ]
     },
     "execution_count": 149,
     "metadata": {},
     "output_type": "execute_result"
    }
   ],
   "source": [
    "b"
   ]
  },
  {
   "cell_type": "code",
   "execution_count": 151,
   "id": "521e00a0-f67c-450c-9470-1cc3c95573f2",
   "metadata": {},
   "outputs": [],
   "source": [
    "b[0] = 1111"
   ]
  },
  {
   "cell_type": "code",
   "execution_count": 153,
   "id": "5530f8dc-2f05-4de6-82f1-1fb02a53318b",
   "metadata": {},
   "outputs": [
    {
     "data": {
      "text/plain": [
       "array([1111,    5,    6,    7])"
      ]
     },
     "execution_count": 153,
     "metadata": {},
     "output_type": "execute_result"
    }
   ],
   "source": [
    "b"
   ]
  },
  {
   "cell_type": "code",
   "execution_count": 155,
   "id": "a5b14c14-731c-4fd0-9d36-b483fce7d9ef",
   "metadata": {},
   "outputs": [
    {
     "data": {
      "text/plain": [
       "array([    1,     2,     3, 44444,     5,     6,     7,     8,     9,\n",
       "          11,    12,    13])"
      ]
     },
     "execution_count": 155,
     "metadata": {},
     "output_type": "execute_result"
    }
   ],
   "source": [
    "flat"
   ]
  },
  {
   "cell_type": "code",
   "execution_count": 157,
   "id": "21032953-dd19-40df-bcf8-14aea48f0973",
   "metadata": {},
   "outputs": [
    {
     "data": {
      "text/plain": [
       "array([    3,     7, 44444])"
      ]
     },
     "execution_count": 157,
     "metadata": {},
     "output_type": "execute_result"
    }
   ],
   "source": [
    "flat[[2,6,3]]"
   ]
  },
  {
   "cell_type": "markdown",
   "id": "bfebc911-755e-4b1d-aee7-07be1b3fb7f1",
   "metadata": {},
   "source": [
    "You can do fancy indexing by giving a list of indexes for slicing."
   ]
  },
  {
   "cell_type": "code",
   "execution_count": 160,
   "id": "566ab11f-4f88-469a-b0b0-0b0259f4c44a",
   "metadata": {},
   "outputs": [
    {
     "data": {
      "text/plain": [
       "array([44444,     6,     7,     8,     9,    11,    12,    13])"
      ]
     },
     "execution_count": 160,
     "metadata": {},
     "output_type": "execute_result"
    }
   ],
   "source": [
    "flat[flat > 5]"
   ]
  },
  {
   "cell_type": "markdown",
   "id": "fe36609e-e159-4723-b89b-ac5bb1e90e99",
   "metadata": {},
   "source": [
    "This is boolean masking."
   ]
  },
  {
   "cell_type": "markdown",
   "id": "9d49cabe-9cd5-45a8-90e5-5f9156077c9f",
   "metadata": {},
   "source": [
    "# Exercise Practice "
   ]
  },
  {
   "cell_type": "code",
   "execution_count": 164,
   "id": "86c69f16-1f82-4fc4-a9a4-a4ad7b96dd8e",
   "metadata": {},
   "outputs": [],
   "source": [
    "arr = np.array([[1,2,3],\n",
    "               [4,5,6],\n",
    "               [7,8,9]])"
   ]
  },
  {
   "cell_type": "code",
   "execution_count": 166,
   "id": "49fc516c-7c1c-4c86-a46a-af6fa0696b53",
   "metadata": {},
   "outputs": [
    {
     "data": {
      "text/plain": [
       "(3, 3)"
      ]
     },
     "execution_count": 166,
     "metadata": {},
     "output_type": "execute_result"
    }
   ],
   "source": [
    "arr.shape"
   ]
  },
  {
   "cell_type": "code",
   "execution_count": 178,
   "id": "655abbf9-5eae-48df-a597-d6bd314cfd8d",
   "metadata": {},
   "outputs": [],
   "source": [
    "float_arr = np.array([1.1,2.2,3.3])"
   ]
  },
  {
   "cell_type": "code",
   "execution_count": 180,
   "id": "d4ac1aba-9356-428c-a6e7-17b907d4ce09",
   "metadata": {},
   "outputs": [
    {
     "data": {
      "text/plain": [
       "array([1.1, 2.2, 3.3])"
      ]
     },
     "execution_count": 180,
     "metadata": {},
     "output_type": "execute_result"
    }
   ],
   "source": [
    "float_arr"
   ]
  },
  {
   "cell_type": "code",
   "execution_count": 188,
   "id": "ef813f11-d9ad-4c9b-b358-21eac1b49bf3",
   "metadata": {},
   "outputs": [],
   "source": [
    "float_arr = np.array((float_arr),dtype = 'int32' )"
   ]
  },
  {
   "cell_type": "code",
   "execution_count": 190,
   "id": "af748136-91e5-4849-ba1c-350a96fbbb19",
   "metadata": {},
   "outputs": [
    {
     "data": {
      "text/plain": [
       "array([1, 2, 3])"
      ]
     },
     "execution_count": 190,
     "metadata": {},
     "output_type": "execute_result"
    }
   ],
   "source": [
    "float_arr"
   ]
  },
  {
   "cell_type": "code",
   "execution_count": 198,
   "id": "913b41ad-79ba-4420-b8a6-68eb59de3125",
   "metadata": {},
   "outputs": [],
   "source": [
    "fancy = np.array([1,3,5])\n",
    "array = np.array([1,2,3,4,5,6])"
   ]
  },
  {
   "cell_type": "code",
   "execution_count": 200,
   "id": "79b580bd-015c-4444-832f-3e6a72a3c23a",
   "metadata": {},
   "outputs": [
    {
     "data": {
      "text/plain": [
       "array([1, 3, 5])"
      ]
     },
     "execution_count": 200,
     "metadata": {},
     "output_type": "execute_result"
    }
   ],
   "source": [
    "fancy"
   ]
  },
  {
   "cell_type": "code",
   "execution_count": 202,
   "id": "cf93be5e-ea45-4f8f-826e-d5d0598ac2b9",
   "metadata": {},
   "outputs": [
    {
     "data": {
      "text/plain": [
       "array([2, 4, 6])"
      ]
     },
     "execution_count": 202,
     "metadata": {},
     "output_type": "execute_result"
    }
   ],
   "source": [
    "array[fancy]"
   ]
  },
  {
   "cell_type": "code",
   "execution_count": 204,
   "id": "8ad0e570-508a-4f1a-8bd0-56e879758cd8",
   "metadata": {},
   "outputs": [],
   "source": [
    "arr = arr.flatten()"
   ]
  },
  {
   "cell_type": "code",
   "execution_count": 206,
   "id": "07c189d5-3ca2-473f-b0fe-9f865b7c29f6",
   "metadata": {},
   "outputs": [
    {
     "data": {
      "text/plain": [
       "array([1, 2, 3, 4, 5, 6, 7, 8, 9])"
      ]
     },
     "execution_count": 206,
     "metadata": {},
     "output_type": "execute_result"
    }
   ],
   "source": [
    "arr"
   ]
  },
  {
   "cell_type": "code",
   "execution_count": 208,
   "id": "0842ba09-2cb2-44e0-8f3e-e412bdc13238",
   "metadata": {},
   "outputs": [
    {
     "data": {
      "text/plain": [
       "array([[1, 2, 3],\n",
       "       [4, 5, 6],\n",
       "       [7, 8, 9]])"
      ]
     },
     "execution_count": 208,
     "metadata": {},
     "output_type": "execute_result"
    }
   ],
   "source": [
    "arr.reshape((3,3))"
   ]
  },
  {
   "cell_type": "code",
   "execution_count": 212,
   "id": "ad23b96d-8555-402a-af0a-5c2b090ff876",
   "metadata": {},
   "outputs": [],
   "source": [
    "arr[2] = 100"
   ]
  },
  {
   "cell_type": "code",
   "execution_count": 214,
   "id": "dd28f75e-b82b-442c-b362-9e4f7d321766",
   "metadata": {},
   "outputs": [
    {
     "data": {
      "text/plain": [
       "array([  1,   2, 100,   4,   5,   6,   7,   8,   9])"
      ]
     },
     "execution_count": 214,
     "metadata": {},
     "output_type": "execute_result"
    }
   ],
   "source": [
    "arr"
   ]
  },
  {
   "cell_type": "code",
   "execution_count": 222,
   "id": "4180cae8-39f1-40ec-a566-0eaf30547036",
   "metadata": {},
   "outputs": [
    {
     "data": {
      "text/plain": [
       "array([100])"
      ]
     },
     "execution_count": 222,
     "metadata": {},
     "output_type": "execute_result"
    }
   ],
   "source": [
    "arr[arr > 50]"
   ]
  },
  {
   "cell_type": "markdown",
   "id": "4d3c118c-2dc4-4038-852c-b41be9e93379",
   "metadata": {},
   "source": [
    "# Multidimentsional Indexing and Axis"
   ]
  },
  {
   "cell_type": "code",
   "execution_count": 34,
   "id": "b7346b56-2e0e-4170-8122-d54f226cd853",
   "metadata": {},
   "outputs": [],
   "source": [
    "#2D arrays -> Rows and Columns   arr[row, column]"
   ]
  },
  {
   "cell_type": "code",
   "execution_count": 12,
   "id": "f763983e-a615-4dc1-a62d-9d0361f2da05",
   "metadata": {},
   "outputs": [],
   "source": [
    "arr = np.array([[1,2,3],\n",
    "               [4,5,6],\n",
    "               [7,8,9]])\n"
   ]
  },
  {
   "cell_type": "code",
   "execution_count": 18,
   "id": "71393e59-6ac1-425a-a23c-0b21ca2c3d3c",
   "metadata": {},
   "outputs": [
    {
     "data": {
      "text/plain": [
       "array([[1, 2, 3],\n",
       "       [4, 5, 6],\n",
       "       [7, 8, 9]])"
      ]
     },
     "execution_count": 18,
     "metadata": {},
     "output_type": "execute_result"
    }
   ],
   "source": [
    "arr"
   ]
  },
  {
   "cell_type": "code",
   "execution_count": 24,
   "id": "18779c2c-38da-4a94-b450-0e7cd86a5631",
   "metadata": {},
   "outputs": [
    {
     "data": {
      "text/plain": [
       "array([12, 15, 18])"
      ]
     },
     "execution_count": 24,
     "metadata": {},
     "output_type": "execute_result"
    }
   ],
   "source": [
    "np.sum(arr, axis = 0)  #Column Wise"
   ]
  },
  {
   "cell_type": "code",
   "execution_count": 26,
   "id": "816f747b-810b-4e6c-9b12-a33212c1690c",
   "metadata": {},
   "outputs": [
    {
     "data": {
      "text/plain": [
       "array([ 6, 15, 24])"
      ]
     },
     "execution_count": 26,
     "metadata": {},
     "output_type": "execute_result"
    }
   ],
   "source": [
    "np.sum(arr, axis = 1)  #Row Wise"
   ]
  },
  {
   "cell_type": "code",
   "execution_count": 36,
   "id": "0f88070a-c34f-4a7d-87b4-ec6c9f85a94b",
   "metadata": {},
   "outputs": [
    {
     "data": {
      "text/plain": [
       "2"
      ]
     },
     "execution_count": 36,
     "metadata": {},
     "output_type": "execute_result"
    }
   ],
   "source": [
    "arr[0, 1]   #Feature of Numpy."
   ]
  },
  {
   "cell_type": "code",
   "execution_count": 38,
   "id": "bd7a6b40-60ff-4151-af56-caa9827d1bcc",
   "metadata": {},
   "outputs": [
    {
     "data": {
      "text/plain": [
       "array([[2, 3],\n",
       "       [5, 6]])"
      ]
     },
     "execution_count": 38,
     "metadata": {},
     "output_type": "execute_result"
    }
   ],
   "source": [
    "arr[0:2, 1:]"
   ]
  },
  {
   "cell_type": "code",
   "execution_count": 40,
   "id": "64dc4189-833a-40f3-a69c-10b28a7ef13d",
   "metadata": {},
   "outputs": [],
   "source": [
    "#3D arrays -> Depth, Rows and Columns     arr[depth, row, column]"
   ]
  },
  {
   "cell_type": "code",
   "execution_count": 44,
   "id": "d983e459-ff7f-4432-b66a-4117b34df9ec",
   "metadata": {},
   "outputs": [],
   "source": [
    "arr3D = np.array([[\n",
    "    [1,2,3],[4,5,6]],\n",
    "    [[7,8,9],[10,11,12]]])"
   ]
  },
  {
   "cell_type": "code",
   "execution_count": 46,
   "id": "6a0885f8-fb28-46f8-903e-0600e2d4712e",
   "metadata": {},
   "outputs": [
    {
     "data": {
      "text/plain": [
       "6"
      ]
     },
     "execution_count": 46,
     "metadata": {},
     "output_type": "execute_result"
    }
   ],
   "source": [
    "arr3D[0, 1, 2]"
   ]
  },
  {
   "cell_type": "code",
   "execution_count": 48,
   "id": "5ca1a6ec-d642-4946-a56f-e7ec7afc3972",
   "metadata": {},
   "outputs": [
    {
     "data": {
      "text/plain": [
       "array([[1, 2, 3],\n",
       "       [7, 8, 9]])"
      ]
     },
     "execution_count": 48,
     "metadata": {},
     "output_type": "execute_result"
    }
   ],
   "source": [
    "arr3D[:,0,:]"
   ]
  },
  {
   "cell_type": "markdown",
   "id": "87caac7a-171e-488e-ac39-ff5abf72de8c",
   "metadata": {},
   "source": [
    "# Data types in Numpy"
   ]
  },
  {
   "cell_type": "code",
   "execution_count": 51,
   "id": "de6e77bc-b4ed-467a-aba8-d698fc31bbec",
   "metadata": {},
   "outputs": [],
   "source": [
    "#int32, int64, float32, float64, bool, complex64, object"
   ]
  },
  {
   "cell_type": "code",
   "execution_count": 57,
   "id": "8eb6ab0a-932b-41f5-9be9-02682bc5bae3",
   "metadata": {},
   "outputs": [
    {
     "data": {
      "text/plain": [
       "dtype('int32')"
      ]
     },
     "execution_count": 57,
     "metadata": {},
     "output_type": "execute_result"
    }
   ],
   "source": [
    "arr = np.array([23,4,3,23])\n",
    "arr.dtype"
   ]
  },
  {
   "cell_type": "code",
   "execution_count": 63,
   "id": "380f90cd-aaf2-49fb-a8af-86b09466de13",
   "metadata": {},
   "outputs": [
    {
     "data": {
      "text/plain": [
       "array([23.,  4.,  3., 23.])"
      ]
     },
     "execution_count": 63,
     "metadata": {},
     "output_type": "execute_result"
    }
   ],
   "source": [
    "arr.astype('float64')"
   ]
  },
  {
   "cell_type": "code",
   "execution_count": 65,
   "id": "3deb5b93-4c8c-45d4-9117-3b14a301e51d",
   "metadata": {},
   "outputs": [
    {
     "data": {
      "text/plain": [
       "dtype('int32')"
      ]
     },
     "execution_count": 65,
     "metadata": {},
     "output_type": "execute_result"
    }
   ],
   "source": [
    "arr.dtype"
   ]
  },
  {
   "cell_type": "code",
   "execution_count": 71,
   "id": "d7dfab22-a050-47c3-9a98-cc27a7f19f6c",
   "metadata": {},
   "outputs": [
    {
     "data": {
      "text/plain": [
       "dtype('float32')"
      ]
     },
     "execution_count": 71,
     "metadata": {},
     "output_type": "execute_result"
    }
   ],
   "source": [
    "arr2 = np.array([23,4,3,23], dtype = 'float32')\n",
    "arr2.dtype"
   ]
  },
  {
   "cell_type": "code",
   "execution_count": 80,
   "id": "30ff877d-3609-42ae-b4da-0a4405fa4e63",
   "metadata": {},
   "outputs": [
    {
     "data": {
      "text/plain": [
       "16"
      ]
     },
     "execution_count": 80,
     "metadata": {},
     "output_type": "execute_result"
    }
   ],
   "source": [
    "arr.nbytes     #Memory Usage"
   ]
  },
  {
   "cell_type": "markdown",
   "id": "f1deff9d-9f28-444b-b1c8-36ca30b4875b",
   "metadata": {},
   "source": [
    "# Broadcasting and Vectorization in Numpy"
   ]
  },
  {
   "cell_type": "code",
   "execution_count": 96,
   "id": "996fbe9e-aaf4-467f-aa72-1caa359b108c",
   "metadata": {},
   "outputs": [
    {
     "data": {
      "text/plain": [
       "array([529,  16,   9, 529])"
      ]
     },
     "execution_count": 96,
     "metadata": {},
     "output_type": "execute_result"
    }
   ],
   "source": [
    "result = arr ** 2    #Vectorization       Here 2 was broadcasted and no extra memory is used\n",
    "result"
   ]
  },
  {
   "cell_type": "code",
   "execution_count": 87,
   "id": "1ec80c35-3eaf-4c2b-b546-3bb3c3c27618",
   "metadata": {},
   "outputs": [],
   "source": [
    "# Dimensions must be compatible\n",
    "# Stretching arrays"
   ]
  },
  {
   "cell_type": "code",
   "execution_count": 89,
   "id": "4801f45c-8cfa-49a0-991a-94bc7549bc7b",
   "metadata": {},
   "outputs": [],
   "source": [
    "# Normalization : When we minus mean, and divide by standard deviation"
   ]
  },
  {
   "cell_type": "code",
   "execution_count": 91,
   "id": "f02d2ddf-3c64-42e5-b050-50661a50e20c",
   "metadata": {},
   "outputs": [],
   "source": [
    "# normalized_data = (data - mean) / std"
   ]
  },
  {
   "cell_type": "markdown",
   "id": "b49a61c7-fc95-4ded-b80d-725bca4e42ae",
   "metadata": {},
   "source": [
    "# Mathematical Functions in Numpy"
   ]
  },
  {
   "cell_type": "code",
   "execution_count": 100,
   "id": "7ef179a4-2885-4f3e-96e5-96e78e3b00b5",
   "metadata": {},
   "outputs": [
    {
     "data": {
      "text/plain": [
       "13.25"
      ]
     },
     "execution_count": 100,
     "metadata": {},
     "output_type": "execute_result"
    }
   ],
   "source": [
    "np.mean(arr)"
   ]
  },
  {
   "cell_type": "code",
   "execution_count": 102,
   "id": "7477e7dc-be5d-4bd6-a713-79dd81113c39",
   "metadata": {},
   "outputs": [
    {
     "data": {
      "text/plain": [
       "9.756408150543928"
      ]
     },
     "execution_count": 102,
     "metadata": {},
     "output_type": "execute_result"
    }
   ],
   "source": [
    "np.std(arr)"
   ]
  },
  {
   "cell_type": "code",
   "execution_count": null,
   "id": "f289b60c-e163-4b64-bd26-0b595c1f56ae",
   "metadata": {},
   "outputs": [],
   "source": []
  }
 ],
 "metadata": {
  "kernelspec": {
   "display_name": "Python [conda env:base] *",
   "language": "python",
   "name": "conda-base-py"
  },
  "language_info": {
   "codemirror_mode": {
    "name": "ipython",
    "version": 3
   },
   "file_extension": ".py",
   "mimetype": "text/x-python",
   "name": "python",
   "nbconvert_exporter": "python",
   "pygments_lexer": "ipython3",
   "version": "3.12.7"
  }
 },
 "nbformat": 4,
 "nbformat_minor": 5
}
